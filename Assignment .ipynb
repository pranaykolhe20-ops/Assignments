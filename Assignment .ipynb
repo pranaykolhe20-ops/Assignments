{
 "cells": [
  {
   "cell_type": "markdown",
   "id": "abac6dd4-e645-4233-b8bd-42174283cf30",
   "metadata": {},
   "source": [
    "### 1. String (5 Questions)"
   ]
  },
  {
   "cell_type": "markdown",
   "id": "5f4b0533-6fc6-4369-9e07-5e5af0d9ac06",
   "metadata": {},
   "source": [
    "##### 1. check if given string is palindrome"
   ]
  },
  {
   "cell_type": "code",
   "execution_count": 5,
   "id": "60eddd35-87d7-4b26-9f9b-532b38a7d987",
   "metadata": {},
   "outputs": [
    {
     "name": "stdin",
     "output_type": "stream",
     "text": [
      "Enter the word: madam\n"
     ]
    },
    {
     "name": "stdout",
     "output_type": "stream",
     "text": [
      "It is a Palindrome\n"
     ]
    }
   ],
   "source": [
    "p = input(\"Enter the word:\")\n",
    "word = p.lower()\n",
    "Reverse = word[::-1]\n",
    "if word == Reverse:\n",
    "    print(\"It is a Palindrome\")\n",
    "else:\n",
    "    print(\"It is not a Palindrome\")"
   ]
  },
  {
   "cell_type": "markdown",
   "id": "33a67b15-aaae-4272-bd93-ef8f3af5f9e7",
   "metadata": {},
   "source": [
    "##### 2. Count the number of vowels in a string and store the result in a dictionary."
   ]
  },
  {
   "cell_type": "code",
   "execution_count": 8,
   "id": "365d0118-2fe3-43a8-9927-eec1ca8913f1",
   "metadata": {},
   "outputs": [],
   "source": [
    "def count_vowels(word):\n",
    "    \"\"\"This Function count the vowel in the word.\"\"\"\n",
    "    word = word.lower()\n",
    "    a = e = i = o = u = 0\n",
    "    for ch in word:\n",
    "        if ch == \"a\":\n",
    "            a += 1\n",
    "        elif ch == \"e\":\n",
    "            e += 1\n",
    "        elif ch == \"i\":\n",
    "            i += 1\n",
    "        elif ch == \"o\":\n",
    "            o += 1\n",
    "        elif ch == \"u\":\n",
    "            u += 1\n",
    "            \n",
    "    return {\"a\": a, \"e\": e, \"i\": i, \"o\": o, \"u\": u}"
   ]
  },
  {
   "cell_type": "code",
   "execution_count": 11,
   "id": "d995ada3-5f22-4b58-9746-c0bf4f3378e2",
   "metadata": {},
   "outputs": [
    {
     "data": {
      "text/plain": [
       "{'a': 1, 'e': 0, 'i': 0, 'o': 0, 'u': 1}"
      ]
     },
     "execution_count": 11,
     "metadata": {},
     "output_type": "execute_result"
    }
   ],
   "source": [
    "count_vowels(\"Mayur\")"
   ]
  },
  {
   "cell_type": "code",
   "execution_count": 12,
   "id": "4d7dbaa0-f071-4321-9465-07b138637192",
   "metadata": {},
   "outputs": [
    {
     "data": {
      "text/plain": [
       "{'a': 3, 'e': 1, 'i': 1, 'o': 0, 'u': 0}"
      ]
     },
     "execution_count": 12,
     "metadata": {},
     "output_type": "execute_result"
    }
   ],
   "source": [
    "count_vowels(\"My name is pranay\")"
   ]
  },
  {
   "cell_type": "code",
   "execution_count": 7,
   "id": "8aa4802b-915b-4b55-96c6-59fb520236e7",
   "metadata": {},
   "outputs": [
    {
     "name": "stdout",
     "output_type": "stream",
     "text": [
      "{'a': 1, 'e': 1, 'i': 1, 'o': 1, 'u': 1}\n",
      "{'a': 1, 'e': 1, 'i': 1, 'o': 1, 'u': 1}\n",
      "{'a': 1, 'e': 1, 'i': 1, 'o': 1, 'u': 1}\n",
      "{'a': 1, 'e': 1, 'i': 1, 'o': 1, 'u': 1}\n",
      "{'a': 1, 'e': 1, 'i': 1, 'o': 1, 'u': 1}\n"
     ]
    }
   ],
   "source": [
    "s = \"education\"\n",
    "vowels = \"aeiou\"\n",
    "count = {v:s.count(v) for v in vowels}\n",
    "for v in vowels:\n",
    "    print(count)"
   ]
  },
  {
   "cell_type": "markdown",
   "id": "d7316e2f-932c-46b7-95ab-fd99fe50f218",
   "metadata": {},
   "source": [
    "##### 3. Convert the first letter of each word in a string to uppercase (title case manually)"
   ]
  },
  {
   "cell_type": "code",
   "execution_count": 14,
   "id": "456b0934-87e1-4124-b149-d0f380cd4065",
   "metadata": {},
   "outputs": [
    {
     "name": "stdin",
     "output_type": "stream",
     "text": [
      "Sentence: peoples are standing there on street\n"
     ]
    },
    {
     "name": "stdout",
     "output_type": "stream",
     "text": [
      "Peoples Are Standing There On Street\n"
     ]
    }
   ],
   "source": [
    "w = input(\"Sentence:\").title()\n",
    "print(w)"
   ]
  },
  {
   "cell_type": "markdown",
   "id": "25d37355-285c-46c2-963a-bf3bfcde5ecb",
   "metadata": {},
   "source": [
    "##### 4. find the most frequently occurring character in a string in python"
   ]
  },
  {
   "cell_type": "code",
   "execution_count": 21,
   "id": "687f7d82-b551-4840-879d-db4301d12f00",
   "metadata": {},
   "outputs": [
    {
     "name": "stdout",
     "output_type": "stream",
     "text": [
      "p\n"
     ]
    }
   ],
   "source": [
    "s1 = \"apple\"\n",
    "freq = {ch:s1.count(ch) for ch in s1}\n",
    "print(max(freq,key = freq.get))"
   ]
  },
  {
   "cell_type": "markdown",
   "id": "f80d858e-edaf-4b49-bff9-0b7e230ee528",
   "metadata": {},
   "source": [
    "##### 5. Count digits, alphabets, and special characters separately in a string."
   ]
  },
  {
   "cell_type": "code",
   "execution_count": 75,
   "id": "6a21e0be-216c-4f25-9a5e-5f7ca11c3b05",
   "metadata": {},
   "outputs": [
    {
     "name": "stdout",
     "output_type": "stream",
     "text": [
      "\n",
      "Total Number of Alphabets in this String :   24\n",
      "Total Number of Digits in this String :   3\n",
      "Total Number of Special Characters in this String :   5\n"
     ]
    }
   ],
   "source": [
    "string = \"123.Please Enter your Own String\"\n",
    "alphabets=0\n",
    "digits =0\n",
    "special = 0\n",
    "\n",
    "for i in range(len(string)):\n",
    "    if(string[i].isalpha()):\n",
    "        alphabets += 1\n",
    "    elif(string[i].isdigit()):\n",
    "        digits += + 1\n",
    "    else:\n",
    "        special += 1\n",
    "        \n",
    "print(\"\\nTotal Number of Alphabets in this String :  \", alphabets)\n",
    "print(\"Total Number of Digits in this String :  \", digits)\n",
    "print(\"Total Number of Special Characters in this String :  \", special)"
   ]
  },
  {
   "cell_type": "markdown",
   "id": "13c7db2b-8189-4123-8d51-3b66bb718e60",
   "metadata": {},
   "source": [
    "## List (5 Questions)"
   ]
  },
  {
   "cell_type": "markdown",
   "id": "2cc3f872-c93a-47e6-8d97-e311d2a8dd35",
   "metadata": {},
   "source": [
    "##### 6. Remove duplicate elements from a list without using set()."
   ]
  },
  {
   "cell_type": "code",
   "execution_count": 76,
   "id": "4a531058-42b9-47f6-a498-d20af034fc97",
   "metadata": {},
   "outputs": [
    {
     "name": "stdout",
     "output_type": "stream",
     "text": [
      "[1, 2, 3, 4, 5]\n"
     ]
    }
   ],
   "source": [
    "lst = [1, 2, 3, 2, 4, 1, 5, 3]\n",
    "\n",
    "unique_list = []\n",
    "for i in lst:\n",
    "    if i not in unique_list:\n",
    "        unique_list.append(i)\n",
    "\n",
    "print(unique_list)"
   ]
  },
  {
   "cell_type": "markdown",
   "id": "cbd3d931-182d-4475-bfc7-2908d2f6f53f",
   "metadata": {},
   "source": [
    "#####  7.  Reverse a list without using built-in functions. "
   ]
  },
  {
   "cell_type": "code",
   "execution_count": 85,
   "id": "69f861e7-e12d-474a-b15d-99b26036ae4c",
   "metadata": {},
   "outputs": [
    {
     "name": "stdout",
     "output_type": "stream",
     "text": [
      "[5, 4, 3, 2, 1]\n"
     ]
    }
   ],
   "source": [
    "numbers = [0,1, 2, 3, 4, 5]\n",
    "\n",
    "list=numbers[5:0:-1]\n",
    "\n",
    "print(list)"
   ]
  },
  {
   "cell_type": "markdown",
   "id": "7d272057-4178-4656-8584-4cf2240cc25a",
   "metadata": {},
   "source": [
    "##### 8. Find the 2nd largest and 2nd smallest element in a list."
   ]
  },
  {
   "cell_type": "code",
   "execution_count": 86,
   "id": "00174c33-657b-41dd-af19-a268b904cdce",
   "metadata": {},
   "outputs": [
    {
     "name": "stdout",
     "output_type": "stream",
     "text": [
      "2nd smallest: 20 2nd largest: 400\n",
      "[1, 20, 21, 34, 55, 98, 400, 12456]\n"
     ]
    }
   ],
   "source": [
    "numbers = [55,21,98,400,12456,34,1,20]\n",
    "n = sorted(numbers)\n",
    "second_smallest = n[1]\n",
    "second_largest = n[-2]\n",
    "\n",
    "print(\"2nd smallest:\",second_smallest,\"2nd largest:\",second_largest)\n",
    "print(n)"
   ]
  },
  {
   "cell_type": "markdown",
   "id": "8334696b-c594-41bc-adec-50a904888f43",
   "metadata": {},
   "source": [
    "##### 9. Store the square of each element of a list into a new list (using list comprehension)."
   ]
  },
  {
   "cell_type": "code",
   "execution_count": 87,
   "id": "09574c92-9554-4cbc-b7ff-a3106820a4c6",
   "metadata": {},
   "outputs": [
    {
     "name": "stdout",
     "output_type": "stream",
     "text": [
      "[1, 16, 25, 49, 81]\n"
     ]
    }
   ],
   "source": [
    "numbers = [1,4,5,7,9]\n",
    "\n",
    "squares = [x**2 for x in numbers]\n",
    "\n",
    "print(squares)"
   ]
  },
  {
   "cell_type": "markdown",
   "id": "f526ca36-5ea5-4f3d-ba14-5a39442d27dd",
   "metadata": {},
   "source": [
    "##### 10. Flatten a nested list into a single list"
   ]
  },
  {
   "cell_type": "code",
   "execution_count": 88,
   "id": "cd6b24ce-9be4-4c1f-aa4f-89b8afa5d314",
   "metadata": {},
   "outputs": [
    {
     "name": "stdout",
     "output_type": "stream",
     "text": [
      "[1, 2, 3, 4, 5, 6]\n"
     ]
    }
   ],
   "source": [
    "nested = [[1, 2], [3, 4], [5, 6]]\n",
    "\n",
    "#   [x for sub in nested for x in sub]      #1st way\n",
    "\n",
    "flat = []\n",
    "for i in nested:\n",
    "    for j in i:\n",
    "        flat.append(j)\n",
    "\n",
    "print(flat)\n",
    "\n",
    "\n"
   ]
  },
  {
   "cell_type": "code",
   "execution_count": 89,
   "id": "b9cd12a5-7922-4475-ba80-b6db1f504177",
   "metadata": {},
   "outputs": [
    {
     "data": {
      "text/plain": [
       "[1, 2, 3, 4, 5, 6]"
      ]
     },
     "execution_count": 89,
     "metadata": {},
     "output_type": "execute_result"
    }
   ],
   "source": [
    "nested = [[1,2],[3,4],[5,6]]              # 2nd way \n",
    "[x for sub in nested for x in sub]"
   ]
  },
  {
   "cell_type": "markdown",
   "id": "334e68da-5488-4e37-9f81-c0df51a0fb9a",
   "metadata": {},
   "source": [
    "## 3. Tuple (5 Questions) "
   ]
  },
  {
   "cell_type": "markdown",
   "id": "1caf75fe-71eb-4704-b10d-34d3dcfad4bb",
   "metadata": {},
   "source": [
    "##### 11. Reverse a tuple without using [-1]  "
   ]
  },
  {
   "cell_type": "code",
   "execution_count": 90,
   "id": "32b63bae-0f13-49fe-9927-5556a6070b88",
   "metadata": {},
   "outputs": [
    {
     "name": "stdout",
     "output_type": "stream",
     "text": [
      "(5, 4, 3, 2, 1)\n"
     ]
    }
   ],
   "source": [
    "A = (1, 2, 3, 4, 5)\n",
    "\n",
    "p = tuple(reversed(A))\n",
    "\n",
    "print(p)\n"
   ]
  },
  {
   "cell_type": "markdown",
   "id": "3a83d949-8cfe-4f35-99c1-dede8c396eb6",
   "metadata": {},
   "source": [
    "##### 12. Extract unique elements from a tuple and store them in a new list."
   ]
  },
  {
   "cell_type": "code",
   "execution_count": 93,
   "id": "b0a4ce12-86bb-4313-ac60-662b70c7bccf",
   "metadata": {},
   "outputs": [
    {
     "name": "stdout",
     "output_type": "stream",
     "text": [
      "[1, 2, 3, 4, 5]\n"
     ]
    }
   ],
   "source": [
    "t = (1, 2, 3, 2, 4, 1, 5, 3)\n",
    "\n",
    "unique_list = []\n",
    "for i in t:\n",
    "    if i not in unique_list:\n",
    "        unique_list.append(i)\n",
    "\n",
    "print(unique_list)"
   ]
  },
  {
   "cell_type": "markdown",
   "id": "912a1e4d-3683-4fd3-8f4e-62463206f643",
   "metadata": {},
   "source": [
    "##### 13. Concatenate two tuples and sort them."
   ]
  },
  {
   "cell_type": "code",
   "execution_count": 95,
   "id": "3e8f9909-9705-47f8-b638-1cc2b3d11e13",
   "metadata": {},
   "outputs": [
    {
     "name": "stdout",
     "output_type": "stream",
     "text": [
      "(1, 2, 3, 4, 5, 6)\n"
     ]
    }
   ],
   "source": [
    "t1 = (1,2,3)\n",
    "t2 = (4,5,6)\n",
    "\n",
    "concat = t1 + t2\n",
    "print(concat)"
   ]
  },
  {
   "cell_type": "markdown",
   "id": "2461fff5-a002-414e-bed1-d2da701f6c04",
   "metadata": {},
   "source": [
    "##### 14. Count the frequency of an element in a tuple without using count()."
   ]
  },
  {
   "cell_type": "code",
   "execution_count": 100,
   "id": "98fe05eb-0a94-4271-9bc9-5fda2bd26ff6",
   "metadata": {},
   "outputs": [
    {
     "name": "stdout",
     "output_type": "stream",
     "text": [
      "3\n"
     ]
    }
   ],
   "source": [
    "t = (1, 2, 2, 3, 2)\n",
    "element = 2\n",
    "count = sum(1 for x in t if x== element)\n",
    "print(count)\n",
    "\n"
   ]
  },
  {
   "cell_type": "markdown",
   "id": "16714db5-6e45-47ef-ba93-91cad936f2b3",
   "metadata": {},
   "source": [
    "##### 15. From a tuple of numbers, create two tuples: one with even numbers and one with odd numbers."
   ]
  },
  {
   "cell_type": "code",
   "execution_count": 101,
   "id": "72c64af5-7f7c-40c8-90b6-98ff771c9ae1",
   "metadata": {},
   "outputs": [
    {
     "name": "stdout",
     "output_type": "stream",
     "text": [
      "(2, 4, 6, 8) (1, 3, 5, 7, 9)\n"
     ]
    }
   ],
   "source": [
    "t = (1, 2, 3, 4, 5, 6, 7, 8, 9)\n",
    "\n",
    "even = tuple(i for i in t if i%2==0)\n",
    "odd = tuple (i for i in t if i%2!=0)\n",
    "\n",
    "print(even,odd)"
   ]
  },
  {
   "cell_type": "code",
   "execution_count": 102,
   "id": "2e365b81-0963-48c8-a8ad-9ec94a5f2b26",
   "metadata": {},
   "outputs": [
    {
     "name": "stdout",
     "output_type": "stream",
     "text": [
      "Even numbers tuple: (10, 12, 14, 16, 18)\n",
      "Odd numbers tuple: (11, 13, 15, 17)\n"
     ]
    }
   ],
   "source": [
    "numbers = (10,11,12,13,14,15,16,17,18)\n",
    "\n",
    "even = []\n",
    "odd = []\n",
    "\n",
    "for n in numbers:\n",
    "    if n % 2 == 0:\n",
    "        even.append(n)\n",
    "    else:\n",
    "        odd.append(n)\n",
    "\n",
    "even_tuple = tuple(even)\n",
    "odd_tuple = tuple(odd)\n",
    "\n",
    "print(\"Even numbers tuple:\", even_tuple)\n",
    "print(\"Odd numbers tuple:\", odd_tuple)"
   ]
  },
  {
   "cell_type": "markdown",
   "id": "d34a3d51-9c24-40f8-89fd-9d06750e02c1",
   "metadata": {},
   "source": [
    "### 4. Set (5 Questions)"
   ]
  },
  {
   "cell_type": "markdown",
   "id": "d634d2da-53bc-43f3-8f0f-490144be3241",
   "metadata": {},
   "source": [
    "##### 16. Perform union, intersection, and difference of two sets without using built-in"
   ]
  },
  {
   "cell_type": "code",
   "execution_count": 103,
   "id": "41aa972e-bfe9-461c-9c42-b5cdd783971e",
   "metadata": {},
   "outputs": [
    {
     "name": "stdout",
     "output_type": "stream",
     "text": [
      "Union: [1, 2, 3, 4]\n",
      "Intersection: [3]\n",
      "Difference (A - B): [1, 2]\n"
     ]
    }
   ],
   "source": [
    "A = [1, 2, 3]\n",
    "B = [3, 4]\n",
    "                        # use special character |,-,&\n",
    "union = []\n",
    "for x in A:\n",
    "    if x not in union:\n",
    "        union.append(x)\n",
    "for y in B:\n",
    "    if y not in union:\n",
    "        union.append(y)\n",
    "\n",
    "# Intersection\n",
    "intersection = []\n",
    "for x in A:\n",
    "    if x in B and x not in intersection:\n",
    "        intersection.append(x)\n",
    "\n",
    "# Difference \n",
    "difference = []\n",
    "for x in A:\n",
    "    if x not in B:\n",
    "        difference.append(x)\n",
    "\n",
    "print(\"Union:\", union)\n",
    "print(\"Intersection:\", intersection)\n",
    "print(\"Difference (A - B):\", difference)"
   ]
  },
  {
   "cell_type": "markdown",
   "id": "777f5ad6-7f54-4f80-9e76-848cfa9074e7",
   "metadata": {},
   "source": [
    "##### 17. Remove a random element from a set (without using pop()).\n"
   ]
  },
  {
   "cell_type": "code",
   "execution_count": 1,
   "id": "662f55f1-3f81-41d4-b45e-33b9dfddddf9",
   "metadata": {},
   "outputs": [
    {
     "name": "stdout",
     "output_type": "stream",
     "text": [
      "Removed: 4\n",
      "Updated: {1, 2, 3, 5, 6, 7, 8}\n"
     ]
    }
   ],
   "source": [
    "import random\n",
    "s = {1,2,3,4,5,6,7,8} # set\n",
    "x = list(s) # converting set into list\n",
    "y = random.choice(x)  # it will pick any random element\n",
    "s.remove(y) # and remove that random element from set\n",
    "\n",
    "print(\"Removed:\",y)\n",
    "print(\"Updated:\",s)"
   ]
  },
  {
   "cell_type": "markdown",
   "id": "475774b2-3511-4639-a2a3-dd922b940970",
   "metadata": {},
   "source": [
    "#####  18.Convert a list into a set and check if duplicates are removed."
   ]
  },
  {
   "cell_type": "code",
   "execution_count": 2,
   "id": "849dba57-4659-4274-8b1a-d6c4a52b8b5b",
   "metadata": {},
   "outputs": [
    {
     "name": "stdout",
     "output_type": "stream",
     "text": [
      "Original List: [10, 20, 20, 30, 40, 40, 50]\n",
      "Converted Set: {40, 10, 50, 20, 30}\n"
     ]
    }
   ],
   "source": [
    "list = [10, 20, 20, 30, 40, 40, 50]\n",
    "\n",
    "# Convert list into set\n",
    "unique_set = set(list)\n",
    "\n",
    "print(\"Original List:\", list)\n",
    "print(\"Converted Set:\", unique_set)\n"
   ]
  },
  {
   "cell_type": "markdown",
   "id": "6ae8a833-8f0d-4d37-b0f7-1100a9af110c",
   "metadata": {},
   "source": [
    "##### 19. Check if two sets are disjoint."
   ]
  },
  {
   "cell_type": "code",
   "execution_count": 3,
   "id": "ebcaeb15-c113-4899-9ebe-8cd854b2dfd8",
   "metadata": {},
   "outputs": [
    {
     "data": {
      "text/plain": [
       "True"
      ]
     },
     "execution_count": 3,
     "metadata": {},
     "output_type": "execute_result"
    }
   ],
   "source": [
    "a = {1,2}\n",
    "b ={3,4}\n",
    "\n",
    "a.isdisjoint(b)"
   ]
  },
  {
   "cell_type": "markdown",
   "id": "404f55c3-7d7c-476f-8f64-4c2bf46cbf38",
   "metadata": {},
   "source": [
    "##### 20. Find the sum of all elements in a set"
   ]
  },
  {
   "cell_type": "code",
   "execution_count": 5,
   "id": "30db26a5-664f-4373-8cb7-8733aba5ac18",
   "metadata": {},
   "outputs": [
    {
     "data": {
      "text/plain": [
       "137180"
      ]
     },
     "execution_count": 5,
     "metadata": {},
     "output_type": "execute_result"
    }
   ],
   "source": [
    "\n",
    "q = {10,129,1238,12347,123456}\n",
    "sum(q)"
   ]
  },
  {
   "cell_type": "markdown",
   "id": "f61014c8-ea82-4226-903b-96bb8a2be2aa",
   "metadata": {},
   "source": [
    "## 5. Dictionary (5 Questions)"
   ]
  },
  {
   "cell_type": "markdown",
   "id": "7d037f08-7e5a-4fee-b1c1-d1f491b757ca",
   "metadata": {},
   "source": [
    "##### 21. Create a dictionary and print keys in ascending order"
   ]
  },
  {
   "cell_type": "code",
   "execution_count": 6,
   "id": "6417d37e-a391-4b02-804c-398629a1e394",
   "metadata": {},
   "outputs": [
    {
     "name": "stdout",
     "output_type": "stream",
     "text": [
      "Original Dictionary: {'c': 3, 'a': 1, 'b': 2}\n",
      "Keys in ascending order: ['a', 'b', 'c']\n"
     ]
    }
   ],
   "source": [
    "my_dict = {\"c\": 3, \"a\": 1, \"b\": 2}             # 1st way\n",
    "\n",
    "print(\"Original Dictionary:\", my_dict)\n",
    "print(\"Keys in ascending order:\", sorted(my_dict.keys()))"
   ]
  },
  {
   "cell_type": "code",
   "execution_count": 8,
   "id": "0cc9b7df-438b-455a-a693-ee1bedf22a70",
   "metadata": {},
   "outputs": [
    {
     "name": "stdout",
     "output_type": "stream",
     "text": [
      "['a', 'b', 'c']\n"
     ]
    }
   ],
   "source": [
    "dict = {\"c\": 3, \"a\": 1, \"b\": 2}      # 2nd way \n",
    "s=sorted(dict.keys())\n",
    "print(s)"
   ]
  },
  {
   "cell_type": "markdown",
   "id": "2868e78d-8654-4475-ad7f-a2ffc6dded02",
   "metadata": {},
   "source": [
    "##### 22. Add a new key to a dictionary with value equal to the sum of existing values."
   ]
  },
  {
   "cell_type": "code",
   "execution_count": 9,
   "id": "4cf5c4b3-6e48-44c9-87b6-5e5f01fd687f",
   "metadata": {},
   "outputs": [
    {
     "name": "stdout",
     "output_type": "stream",
     "text": [
      "60\n"
     ]
    }
   ],
   "source": [
    "d = {\"a\": 10, \"b\": 20, \"c\": 30} \n",
    "d_total = sum(d.values())\n",
    "print(d_total)"
   ]
  },
  {
   "cell_type": "code",
   "execution_count": 11,
   "id": "4075c0de-516c-45d9-be5c-32e47afbc609",
   "metadata": {},
   "outputs": [
    {
     "name": "stdout",
     "output_type": "stream",
     "text": [
      "{'x': 10, 'y': 20, 'total': 30}\n"
     ]
    }
   ],
   "source": [
    "d = {\"x\":10, \"y\":20}\n",
    "d['total'] = sum(d.values())\n",
    "print(d)"
   ]
  },
  {
   "cell_type": "markdown",
   "id": "ab8118b3-226d-4b3b-8755-86ea9ef4a1a5",
   "metadata": {},
   "source": [
    "##### 23. Merge two dictionaries into one."
   ]
  },
  {
   "cell_type": "code",
   "execution_count": 12,
   "id": "caaec243-e06c-49d0-bbca-7fbe2756e732",
   "metadata": {},
   "outputs": [
    {
     "name": "stdout",
     "output_type": "stream",
     "text": [
      "{'a': 1, 'b': 2, 'c': 3, 'd': 4}\n"
     ]
    }
   ],
   "source": [
    "d1 = {\"a\": 1, \"b\": 2}\n",
    "d2 = {\"c\": 3, \"d\": 4}\n",
    "\n",
    "d1.update(d2)\n",
    "print(d1)"
   ]
  },
  {
   "cell_type": "code",
   "execution_count": 14,
   "id": "156b9ce9-48c4-42ce-b9f0-7902589eb803",
   "metadata": {},
   "outputs": [
    {
     "name": "stdout",
     "output_type": "stream",
     "text": [
      "{'c': 3, 'd': 4, 'a': 1, 'b': 2}\n"
     ]
    }
   ],
   "source": [
    "d1 = {\"a\": 1, \"b\": 2}\n",
    "d2 = {\"c\": 3, \"d\": 4}\n",
    "\n",
    "d2.update(d1)\n",
    "print(d2)"
   ]
  },
  {
   "cell_type": "code",
   "execution_count": 15,
   "id": "c63ed68e-5b8e-4f7e-9d66-ed0694960c99",
   "metadata": {},
   "outputs": [
    {
     "name": "stdout",
     "output_type": "stream",
     "text": [
      "{'a': 1, 'b': 2, 'c': 3, 'd': 4}\n"
     ]
    }
   ],
   "source": [
    "d1 = {\"a\": 1, \"b\": 2}\n",
    "d2 = {\"c\": 3, \"d\": 4}\n",
    "merged = {**d1,**d2}\n",
    "print(merged)"
   ]
  },
  {
   "cell_type": "markdown",
   "id": "3e6d0816-4474-41f6-89db-161448433e7f",
   "metadata": {},
   "source": [
    "##### 24. Find the key with the largest value in a dictionary."
   ]
  },
  {
   "cell_type": "code",
   "execution_count": 16,
   "id": "b553b8a9-03f4-4e1a-ae10-16881f6dfd73",
   "metadata": {},
   "outputs": [
    {
     "name": "stdout",
     "output_type": "stream",
     "text": [
      "b\n"
     ]
    }
   ],
   "source": [
    "d= {\"a\":10 , \"b\":25 , \"c\":5}\n",
    "print(max(d,key = d.get))"
   ]
  },
  {
   "cell_type": "markdown",
   "id": "9abe0e83-84e9-476d-92de-a034025eedf9",
   "metadata": {},
   "source": [
    "##### 25. Store the frequency of characters of a string in a dictionary."
   ]
  },
  {
   "cell_type": "code",
   "execution_count": 17,
   "id": "3a6d29f6-4220-465e-8cb1-9f9d6a5bc1d8",
   "metadata": {},
   "outputs": [
    {
     "name": "stdout",
     "output_type": "stream",
     "text": [
      "{'a': 3, 'b': 1, 'n': 2}\n"
     ]
    }
   ],
   "source": [
    "s = \"banana\"\n",
    "freq = {ch:s.count(ch) for ch in set (s)}\n",
    "print (freq)"
   ]
  },
  {
   "cell_type": "code",
   "execution_count": 18,
   "id": "e76c41ae-259d-438a-994d-4ff5653bc79f",
   "metadata": {},
   "outputs": [
    {
     "name": "stdout",
     "output_type": "stream",
     "text": [
      "{'a': 1, 'l': 1, 'c': 2, 'o': 2, 't': 1, 'e': 1, 'h': 1}\n"
     ]
    }
   ],
   "source": [
    "s = \"chocolate\"\n",
    "freq = {ch: s.count(ch) for ch in set(s)}\n",
    "print(freq)"
   ]
  },
  {
   "cell_type": "markdown",
   "id": "05f361b1-a490-49bc-aba1-4782ab16ff49",
   "metadata": {},
   "source": [
    "### 6. Conditional Statements (5 Questions)"
   ]
  },
  {
   "cell_type": "markdown",
   "id": "8185e0fa-4f17-4882-9499-3aa1bc30a1a6",
   "metadata": {},
   "source": [
    "##### 26. Take age as input and check if the person is eligible to vote or not."
   ]
  },
  {
   "cell_type": "code",
   "execution_count": 19,
   "id": "643eb082-6595-45c7-b686-48def14a0867",
   "metadata": {},
   "outputs": [],
   "source": [
    "def Eligibility():\n",
    "    age = int(input(\"Enter your age: \"))\n",
    "    if age >= 18:\n",
    "        print(\"You are eligible to vote.\")\n",
    "    else:\n",
    "        print(\"You are not eligible to vote.\")"
   ]
  },
  {
   "cell_type": "code",
   "execution_count": 20,
   "id": "63fef8dd-b675-4567-82ab-8e569c9980fc",
   "metadata": {},
   "outputs": [
    {
     "name": "stdin",
     "output_type": "stream",
     "text": [
      "Enter your age:  20\n"
     ]
    },
    {
     "name": "stdout",
     "output_type": "stream",
     "text": [
      "You are eligible to vote.\n"
     ]
    }
   ],
   "source": [
    "Eligibility()"
   ]
  },
  {
   "cell_type": "markdown",
   "id": "ca396f7c-4c18-4dd0-852c-4bf68c08febd",
   "metadata": {},
   "source": [
    "##### 27. Find the largest among three numbers (using nested if)."
   ]
  },
  {
   "cell_type": "code",
   "execution_count": 21,
   "id": "73c6c07e-a957-4176-9ca6-544cff864283",
   "metadata": {},
   "outputs": [
    {
     "name": "stdin",
     "output_type": "stream",
     "text": [
      "Enter first number:  12\n",
      "Enter second number:  13\n",
      "Enter third number:  14\n"
     ]
    },
    {
     "name": "stdout",
     "output_type": "stream",
     "text": [
      "Largest number is: 14\n"
     ]
    }
   ],
   "source": [
    "a = int(input(\"Enter first number: \"))\n",
    "b = int(input(\"Enter second number: \"))\n",
    "c = int(input(\"Enter third number: \"))\n",
    "\n",
    "if a >= b:\n",
    "    if a >= c:\n",
    "        print(\"Largest number is:\", a)\n",
    "    else:\n",
    "        print(\"Largest number is:\", c)\n",
    "else:\n",
    "    if b >= c:\n",
    "        print(\"Largest number is:\", b)\n",
    "    else:\n",
    "        print(\"Largest number is:\", c)"
   ]
  },
  {
   "cell_type": "code",
   "execution_count": 43,
   "id": "a9c85fa8-f77e-4f51-8b31-aa01a354a89b",
   "metadata": {},
   "outputs": [
    {
     "name": "stdout",
     "output_type": "stream",
     "text": [
      "Largest number is: 30\n"
     ]
    }
   ],
   "source": [
    "a,b,c = 10,20,30\n",
    "if a > b and a > c:\n",
    "    print(\"Largest number is:\",a)\n",
    "elif b > a and b > c:\n",
    "    print(\"Largest number is:\",b)\n",
    "else:\n",
    "    print(\"Largest number is:\",c)"
   ]
  },
  {
   "cell_type": "code",
   "execution_count": 44,
   "id": "38e22668-7392-4e7a-bf5d-4efc4f5544c3",
   "metadata": {},
   "outputs": [
    {
     "name": "stdout",
     "output_type": "stream",
     "text": [
      "Largest number is: 30\n"
     ]
    }
   ],
   "source": [
    "a,b,c = 10,20,30\n",
    "print(\"Largest number is:\",max(a,b,c))"
   ]
  },
  {
   "cell_type": "markdown",
   "id": "d51a4197-f67d-47f2-b13b-ec50509d4b82",
   "metadata": {},
   "source": [
    "##### 28. Check if a given number is prime or not."
   ]
  },
  {
   "cell_type": "code",
   "execution_count": 47,
   "id": "a58a9253-afcd-4221-9b85-b310a0d2ea6b",
   "metadata": {},
   "outputs": [
    {
     "name": "stdin",
     "output_type": "stream",
     "text": [
      "enter a number  12\n"
     ]
    },
    {
     "name": "stdout",
     "output_type": "stream",
     "text": [
      "Not a prime number\n"
     ]
    }
   ],
   "source": [
    "n = int(input(\"enter a number \"))\n",
    "if n <= 1:\n",
    "    print(\"Not a prime number\")\n",
    "elif n==2  or n==3:\n",
    "    print(\"It is a prime number\")\n",
    "else:\n",
    "    for i in range(2,n):  # its check that if n is divisible by any number between 2 and n-1 if yes then its not a prime number,\n",
    "        if n % i == 0 :\n",
    "            print(\"Not a prime number\")\n",
    "            break\n",
    "    else:\n",
    "        print(\"It is a prime number\")"
   ]
  },
  {
   "cell_type": "markdown",
   "id": "1c44177a-d94e-4c16-be04-294b76d9a656",
   "metadata": {},
   "source": [
    "##### 29. Assign grade (A, B, C, Fail) based on marks input."
   ]
  },
  {
   "cell_type": "code",
   "execution_count": 49,
   "id": "39faa045-a328-406c-b3c6-b8cd1ccdf7c6",
   "metadata": {},
   "outputs": [],
   "source": [
    "def assign_grade():\n",
    "    marks = int(input(\"Enter your marks: \"))\n",
    "    if marks >= 90:\n",
    "        print(\"Grade: A\")\n",
    "    elif marks >= 75:\n",
    "        print(\"Grade: B\")\n",
    "    elif marks >= 50:\n",
    "        print(\"Grade: C\")\n",
    "    else:\n",
    "        print(\"Grade: Fail\")"
   ]
  },
  {
   "cell_type": "code",
   "execution_count": 50,
   "id": "f0d780ac-4c62-449f-9992-f6c8aaf39bb8",
   "metadata": {},
   "outputs": [
    {
     "name": "stdin",
     "output_type": "stream",
     "text": [
      "Enter your marks:  45\n"
     ]
    },
    {
     "name": "stdout",
     "output_type": "stream",
     "text": [
      "Grade: Fail\n"
     ]
    }
   ],
   "source": [
    "assign_grade()"
   ]
  },
  {
   "cell_type": "markdown",
   "id": "24b6e838-d290-4831-a832-ef3315ac4cd8",
   "metadata": {},
   "source": [
    "##### 30. Check if a number is positive, negative, or zero."
   ]
  },
  {
   "cell_type": "code",
   "execution_count": 25,
   "id": "8cf3e9c0-1fbd-4c27-9da6-b5b63f198192",
   "metadata": {},
   "outputs": [],
   "source": [
    "def check_number():\n",
    "    num = int(input(\"Enter a number: \"))\n",
    "    if num > 0:\n",
    "        print(\"The number is Positive.\")\n",
    "    elif num < 0:\n",
    "        print(\"The number is Negative.\")\n",
    "    else:\n",
    "        print(\"The number is Zero.\")"
   ]
  },
  {
   "cell_type": "code",
   "execution_count": 52,
   "id": "9843aa0d-482b-4073-9446-b8ad62d67e6f",
   "metadata": {},
   "outputs": [
    {
     "name": "stdin",
     "output_type": "stream",
     "text": [
      "Enter a number:  45\n"
     ]
    },
    {
     "name": "stdout",
     "output_type": "stream",
     "text": [
      "The number is Positive.\n"
     ]
    }
   ],
   "source": [
    "check_number()"
   ]
  },
  {
   "cell_type": "markdown",
   "id": "1988c0be-1910-4efa-8c49-aa875fec2c16",
   "metadata": {},
   "source": [
    "## 7. Loops – For & While (5 Questions)"
   ]
  },
  {
   "cell_type": "markdown",
   "id": "ad7c401b-81c1-4c78-a6c7-3c6be917c5f6",
   "metadata": {},
   "source": [
    "##### 31. Print the first 10 numbers of the Fibonacci series using for loop."
   ]
  },
  {
   "cell_type": "code",
   "execution_count": 32,
   "id": "40aa49ed-7eb7-492b-a5a6-b71db0e40dc1",
   "metadata": {},
   "outputs": [
    {
     "name": "stdout",
     "output_type": "stream",
     "text": [
      "0 1 1 2 3 5 8 13 21 34 "
     ]
    }
   ],
   "source": [
    "a,b = 0,1\n",
    "for _ in range(10):\n",
    "    print(a,end= \" \")\n",
    "    a, b = b, a+b"
   ]
  },
  {
   "cell_type": "markdown",
   "id": "6eeb4f9e-6dc2-4e2e-80b2-bf999ce4ce4b",
   "metadata": {},
   "source": [
    "##### 32. Find the factorial of a number using while loop."
   ]
  },
  {
   "cell_type": "code",
   "execution_count": 34,
   "id": "2adc1764-75ba-426e-b48e-75e77a970815",
   "metadata": {},
   "outputs": [
    {
     "name": "stdout",
     "output_type": "stream",
     "text": [
      "\n",
      "Factorial: 120\n"
     ]
    }
   ],
   "source": [
    "n = 5\n",
    "fact = 1\n",
    "while n > 0:\n",
    "    fact *= n\n",
    "    n -= 1\n",
    "print(\"\\nFactorial:\",fact)"
   ]
  },
  {
   "cell_type": "markdown",
   "id": "b7d34bef-d1ce-4dca-9226-b8a69df4be27",
   "metadata": {},
   "source": [
    "##### 33. Input a number and find the sum of its digits using while loop."
   ]
  },
  {
   "cell_type": "code",
   "execution_count": 22,
   "id": "803f6859-41d0-4506-bbb5-7a6d67c1d7b8",
   "metadata": {},
   "outputs": [
    {
     "name": "stdout",
     "output_type": "stream",
     "text": [
      "sum of digits: 17\n"
     ]
    }
   ],
   "source": [
    "n = 12347\n",
    "s = 0\n",
    "while n > 0:\n",
    "    s += n % 10\n",
    "    n //= 10\n",
    "print(\"sum of digits:\", s)"
   ]
  },
  {
   "cell_type": "markdown",
   "id": "e7b2cc67-fbeb-4bf6-9d6e-3f5bfdbc8646",
   "metadata": {},
   "source": [
    "##### 34. Print all elements of a list in reverse order without using reverse()."
   ]
  },
  {
   "cell_type": "code",
   "execution_count": 35,
   "id": "01bed33b-a77a-4e29-8035-f0d6f6e09733",
   "metadata": {},
   "outputs": [
    {
     "name": "stdout",
     "output_type": "stream",
     "text": [
      "[20, 19, 18, 17, 16, 15, 14, 13, 12, 11]\n"
     ]
    }
   ],
   "source": [
    "z1 = [11,12,13,14,15,16,17,18,19,20]\n",
    "my_list = z1[::-1]\n",
    "print(my_list)"
   ]
  },
  {
   "cell_type": "markdown",
   "id": "47ecb549-7e8e-457e-a4c9-56c346660dd9",
   "metadata": {},
   "source": [
    "##### 35. Print a star pattern (triangle) using nested loops"
   ]
  },
  {
   "cell_type": "code",
   "execution_count": 37,
   "id": "d9bf0bf8-a9dd-4bdc-9606-46e4ae640fd3",
   "metadata": {},
   "outputs": [
    {
     "name": "stdin",
     "output_type": "stream",
     "text": [
      "Enter the num: 5\n"
     ]
    },
    {
     "name": "stdout",
     "output_type": "stream",
     "text": [
      "* \n",
      "* * \n",
      "* * * \n",
      "* * * * \n",
      "* * * * * \n"
     ]
    }
   ],
   "source": [
    "num = int(input(\"Enter the num:\"))\n",
    "for i in range(num):\n",
    "    for j in range(i + 1):\n",
    "        print(\"*\",end = \" \")\n",
    "    print()"
   ]
  },
  {
   "cell_type": "markdown",
   "id": "acc4cc98-cda0-4c8c-a22a-61cefc8db8e4",
   "metadata": {},
   "source": [
    "## 8. File Handling (5 Questions)"
   ]
  },
  {
   "cell_type": "markdown",
   "id": "3419399a-e311-45e2-ab05-ff71c6074435",
   "metadata": {},
   "source": [
    "##### 36. Write some text into a file and then read and print it."
   ]
  },
  {
   "cell_type": "code",
   "execution_count": 38,
   "id": "5412dcf8-fb65-4e0e-a8ce-4479e27d3b1c",
   "metadata": {},
   "outputs": [],
   "source": [
    "f = open(\"123.txt\", \"w\")\n",
    "f.write(\"Hello its my fisrt time studying python.\")\n",
    "f.close()"
   ]
  },
  {
   "cell_type": "code",
   "execution_count": 39,
   "id": "00f556fc-51dc-4c9b-918b-f8e5069cd190",
   "metadata": {},
   "outputs": [],
   "source": [
    "f = open(\"123.txt\", \"r\")"
   ]
  },
  {
   "cell_type": "code",
   "execution_count": 40,
   "id": "093a175b-edef-4dae-97ba-862444d46bab",
   "metadata": {},
   "outputs": [
    {
     "data": {
      "text/plain": [
       "'Hello its my fisrt time studying python.'"
      ]
     },
     "execution_count": 40,
     "metadata": {},
     "output_type": "execute_result"
    }
   ],
   "source": [
    "f.read()"
   ]
  },
  {
   "cell_type": "markdown",
   "id": "950ace57-b70f-4614-b8ca-264db091dca5",
   "metadata": {},
   "source": [
    "##### 37. Count the total number of lines in a file."
   ]
  },
  {
   "cell_type": "code",
   "execution_count": 42,
   "id": "3c38f3c9-e4c1-4872-ad69-2669987cab96",
   "metadata": {},
   "outputs": [
    {
     "name": "stdout",
     "output_type": "stream",
     "text": [
      "Lines: 0\n"
     ]
    }
   ],
   "source": [
    "file = open(\"123.txt\", \"r\")\n",
    "line = file.readline()\n",
    "print(\"Lines:\", len(file.readline()))"
   ]
  },
  {
   "cell_type": "code",
   "execution_count": 43,
   "id": "c901109e-ba75-4621-8404-fd5058c5e2f5",
   "metadata": {},
   "outputs": [
    {
     "name": "stdout",
     "output_type": "stream",
     "text": [
      "Lines: 0\n"
     ]
    }
   ],
   "source": [
    "with open(\"123.txt\", \"r\") as f:\n",
    "    print(\"Lines:\", len(file.readline()))"
   ]
  },
  {
   "cell_type": "markdown",
   "id": "8e855953-50bd-4a99-b14e-b34ee1691d63",
   "metadata": {},
   "source": [
    "##### 38. Count vowels and consonants in a file."
   ]
  },
  {
   "cell_type": "code",
   "execution_count": 44,
   "id": "e713ff38-aef0-41d8-b41e-f311ec47e7ad",
   "metadata": {},
   "outputs": [
    {
     "name": "stdout",
     "output_type": "stream",
     "text": [
      "Vowels: 9\n",
      "Consonants: 24\n"
     ]
    }
   ],
   "source": [
    "f = open(\"123.txt\", \"r\")\n",
    "text = f.read().lower()\n",
    "f.close()\n",
    "\n",
    "vowels = 0\n",
    "consonants = 0\n",
    "\n",
    "for ch in text:\n",
    "    if ch.isalpha():\n",
    "        if ch in \"aeiou\":\n",
    "            vowels += 1\n",
    "        else:\n",
    "            consonants += 1\n",
    "\n",
    "print(\"Vowels:\", vowels)\n",
    "print(\"Consonants:\", consonants)"
   ]
  },
  {
   "cell_type": "code",
   "execution_count": 46,
   "id": "8a147e2c-b389-4538-8bb2-e969fec94489",
   "metadata": {},
   "outputs": [
    {
     "name": "stdout",
     "output_type": "stream",
     "text": [
      "Vowels: 9 Consonants: 24\n"
     ]
    }
   ],
   "source": [
    "with open(\"123.txt\") as f:\n",
    "    text = f.read().lower()\n",
    "vowels = sum(ch in \"aeiou\" for ch in text)\n",
    "consonants = sum(ch. isalpha() and ch not in \"aeiou\" for ch in text)\n",
    "print(\"Vowels:\",vowels, \"Consonants:\",consonants)"
   ]
  },
  {
   "cell_type": "markdown",
   "id": "47ddfa56-cea8-4de0-aa24-cc835037d411",
   "metadata": {},
   "source": [
    "##### 39. Convert the content of a file into uppercase and store it in another file."
   ]
  },
  {
   "cell_type": "code",
   "execution_count": 47,
   "id": "d9b79708-0405-40b2-b736-ec9ff20f5c7c",
   "metadata": {},
   "outputs": [],
   "source": [
    "with open(\"123.txt\") as f:\n",
    "    data = f.read().upper()\n",
    "with open(\"upper.txt\", \"w\") as f:\n",
    "    f.write(data)\n",
    "    f.close()"
   ]
  },
  {
   "cell_type": "code",
   "execution_count": 48,
   "id": "30bd9e1e-d2c4-4a4e-a892-b93f158e6a75",
   "metadata": {},
   "outputs": [
    {
     "data": {
      "text/plain": [
       "'HELLO ITS MY FISRT TIME STUDYING PYTHON.'"
      ]
     },
     "execution_count": 48,
     "metadata": {},
     "output_type": "execute_result"
    }
   ],
   "source": [
    "f = open(\"upper.txt\", \"r\") \n",
    "f.read()"
   ]
  },
  {
   "cell_type": "markdown",
   "id": "7ea044aa-a005-45cf-921a-82a973f67531",
   "metadata": {},
   "source": [
    "##### 40. Read a CSV file and print its rows."
   ]
  },
  {
   "cell_type": "code",
   "execution_count": 49,
   "id": "98ede63a-c2a9-4525-a9a6-a9bf7ac325ce",
   "metadata": {},
   "outputs": [
    {
     "name": "stdout",
     "output_type": "stream",
     "text": [
      "['Hello its my fisrt time studying python.']\n"
     ]
    }
   ],
   "source": [
    "import csv\n",
    "with open(\"123.txt\", newline=\"\") as f:\n",
    "    reader = csv.reader(f)\n",
    "    for row in reader:\n",
    "        print(row)"
   ]
  },
  {
   "cell_type": "markdown",
   "id": "a24ad3bc-3672-4d76-bca3-db25837d4d91",
   "metadata": {},
   "source": [
    "## 9. OS Module (5 Questions)"
   ]
  },
  {
   "cell_type": "code",
   "execution_count": 50,
   "id": "6913e32e-42e0-47ee-afd8-bd1c5b1a5366",
   "metadata": {},
   "outputs": [],
   "source": [
    "import os"
   ]
  },
  {
   "cell_type": "markdown",
   "id": "e0585523-5a2d-4a9b-b5c4-3c95d670bed2",
   "metadata": {},
   "source": [
    "##### 41. Print the current working directory using os module."
   ]
  },
  {
   "cell_type": "code",
   "execution_count": 51,
   "id": "60f47471-4fa6-46c5-a245-861e3a8d98e8",
   "metadata": {},
   "outputs": [
    {
     "name": "stdout",
     "output_type": "stream",
     "text": [
      "C:\\Users\\Hp\\Downloads\n"
     ]
    }
   ],
   "source": [
    "print(os.getcwd())"
   ]
  },
  {
   "cell_type": "markdown",
   "id": "2585791b-32fe-4676-b87c-4447b5602cc8",
   "metadata": {},
   "source": [
    "##### 42. Create a new folder using os module and create a file inside it."
   ]
  },
  {
   "cell_type": "code",
   "execution_count": 62,
   "id": "5ee189b4-82c2-40df-9c8b-563997ae199a",
   "metadata": {},
   "outputs": [
    {
     "name": "stdout",
     "output_type": "stream",
     "text": [
      "Folder and file create successfully\n"
     ]
    }
   ],
   "source": [
    "os.mkdir(\"ABCDEfg\")\n",
    "f = open(\"ABCD/newfile.txt\",\"w\")\n",
    "f.write(\"my file is inside ABCD\")\n",
    "f.close()\n",
    "print(\"Folder and file create successfully\")"
   ]
  },
  {
   "cell_type": "markdown",
   "id": "cc9beda2-b95a-473b-8cbc-b0434081b570",
   "metadata": {},
   "source": [
    "##### 43. List all files and folders inside a directory."
   ]
  },
  {
   "cell_type": "code",
   "execution_count": 63,
   "id": "94c6b278-4de4-4e79-bb5e-046a5f015ddd",
   "metadata": {},
   "outputs": [
    {
     "data": {
      "text/plain": [
       "['.ipynb_checkpoints',\n",
       " '00. Python Basics.pdf',\n",
       " '01. Python Basics.ipynb',\n",
       " '02. Build-in Functions.ipynb',\n",
       " '03. List and Operation.ipynb',\n",
       " '04. String and Operations.ipynb',\n",
       " '05.Tuple and Operations.ipynb',\n",
       " '06. Set and operation.ipynb',\n",
       " '08. Conditions-1.ipynb',\n",
       " '09. Conditions-2 .ipynb',\n",
       " '10. Loops-1.ipynb',\n",
       " '11. loop-2.ipynb',\n",
       " '12. Loop-3.ipynb',\n",
       " '123.txt',\n",
       " '13. File_handling.ipynb',\n",
       " '15. User_define .ipynb',\n",
       " '16. User_define_function-2.ipynb',\n",
       " '17. global, map, reduce, filtter.ipynb',\n",
       " '18. OOPs-1.ipynb',\n",
       " '19. OOPs-2.ipynb',\n",
       " '7. Dictionary and operations.ipynb',\n",
       " '7991dfdc-6886-4e8a-b3ec-66faada19d20 (1).webp',\n",
       " '7991dfdc-6886-4e8a-b3ec-66faada19d20.webp',\n",
       " 'A STUDY TO ASSESS THE EFFECTIVENESS OF EDUCATIONAL INTERVENTION ON KNOWLEDGE REGARDING THE BREASTFEEDING PROBLEMS AND THEIR COPING STRATEGIES AMONG POSTNATAL MOTHERS UNDERWENT CESAREAN SECTION IN SELECTED HOSPITALS OF THE CITY.docx',\n",
       " 'A STUDY TO ASSESS THE EFFECTIVENESS OF EDUCATIONAL INTERVENTION ON KNOWLEDGE REGARDING THE BREASTFEEDING PROBLEMS AND THEIR COPING STRATEGIES AMONG POSTNATAL MOTHERS UNDERWENT CESAREAN SECTION IN SELECTED HOSPITALS OF THE CITY.pdf',\n",
       " 'ABCD',\n",
       " 'ABCDE',\n",
       " 'ABCDEf',\n",
       " 'ABCDEfg',\n",
       " 'admin assignment (1).docx',\n",
       " 'admin assignment SWEETY.pdf',\n",
       " 'admin assignment.docx',\n",
       " 'admin assignment.pdf',\n",
       " 'Anaconda3-2025.06-0-Windows-x86_64.exe',\n",
       " 'ANNEXURE.docx',\n",
       " 'ANNEXURE.pdf',\n",
       " 'antenatal care.pptx',\n",
       " 'Assignment...ipynb',\n",
       " 'babar sir.docx',\n",
       " 'base.ipynb',\n",
       " 'BIBLIOGRAPHY NEW.docx',\n",
       " 'BIBLIOGRAPHY.docx',\n",
       " 'certificate page.docx',\n",
       " 'CERTIFICATE RESEARCH.pdf',\n",
       " 'cummulative and philosophy.docx',\n",
       " 'cummulative and philosophy.pdf',\n",
       " 'CURRICULLUM VITAE.docx',\n",
       " 'CURRICULLUM VITAE.pdf',\n",
       " 'DAY AND NIGHT REPORT.docx',\n",
       " 'DAY AND NIGHT REPORT.pdf',\n",
       " 'demo1.txt',\n",
       " 'desktop.ini',\n",
       " 'DESSERTATION PDF.pdf',\n",
       " 'Dessertation PRITI.docx',\n",
       " 'DOC-20250611-WA0003..docx',\n",
       " 'DocScanner 20-Apr-2025 11-05 am(1).pdf',\n",
       " 'Documents - Shortcut.lnk',\n",
       " 'EVALUATION FORMAT MSC JOURNAL.doc',\n",
       " 'example.txt',\n",
       " 'EXPERT ;LIST PDF.pdf',\n",
       " 'file1.txt',\n",
       " 'file10.txt',\n",
       " 'file2.txt',\n",
       " 'file3.txt',\n",
       " 'file4.txt',\n",
       " 'file5.txt',\n",
       " 'file6.txt',\n",
       " 'file7.txt',\n",
       " 'file8.txt',\n",
       " 'file9.txt',\n",
       " 'final desertation shraddha..docx',\n",
       " 'FINAL DESSARTATION (1) (1).docx',\n",
       " 'FINAL DESSARTATION (1) hyp.pdf',\n",
       " 'FINAL DESSARTATION (1).docx',\n",
       " 'FINAL DESSARTATION (1).pdf',\n",
       " 'FINAL DESSARTATION.docx',\n",
       " 'FINAL DESSARTATION.pdf',\n",
       " 'IDENTIFY.docx',\n",
       " 'ilovepdf_merged.pdf',\n",
       " 'INCIDENT REPORT.docx',\n",
       " 'INCIDENT REPORT.pdf',\n",
       " 'index       admin.docx',\n",
       " 'INDEX (1).pdf',\n",
       " 'INDEX.pdf',\n",
       " 'journal 2 (1).pdf',\n",
       " 'KAJAL FINAL DISSERTATION PPT.pptx',\n",
       " 'language letters.docx',\n",
       " 'language letters.pdf',\n",
       " 'LAYOUT.pdf',\n",
       " 'letter.pdf',\n",
       " 'MCQ ON ANC CARE.pdf',\n",
       " 'MKSSS SN COLLEGE OF NURSING FOR WOMEN.docx',\n",
       " 'new desertation.docx',\n",
       " 'NURSES PROGRESS NOTES.docx',\n",
       " 'NURSES PROGRESS NOTES.pdf',\n",
       " 'problems.pdf',\n",
       " 'Query answer sheet.docx',\n",
       " 'Query answer sheet.pdf',\n",
       " 'RESEARCH PPT new (1).pptx',\n",
       " 'RESEARCH PPT new.pptx',\n",
       " 'RESEARCH PPT.pptx',\n",
       " 'Staffing required for hsopital.docx',\n",
       " 'Staffing required for hsopital.pdf',\n",
       " 'SWEETY CERTIFICATE (1).docx',\n",
       " 'SWEETY CERTIFICATE (1).pdf',\n",
       " 'SWEETY CERTIFICATE (4.pdf',\n",
       " 'sweety certificate new.pdf',\n",
       " 'sweety thesis print (1).pdf',\n",
       " 'sweety thesis print.pdf',\n",
       " 'switi kolhe Resume.docx',\n",
       " 'switi obg index (1).pdf',\n",
       " 'switi obg index.docx',\n",
       " 'switi obg index.pdf',\n",
       " 'Test - 1 (1).ipynb',\n",
       " 'Test - 1.ipynb',\n",
       " 'test.txt',\n",
       " 'test1.txt',\n",
       " 'test_que_1.txt',\n",
       " 'thesis new hpy.pdf',\n",
       " 'Untitled.ipynb',\n",
       " 'upper.txt',\n",
       " 'vision mission.docx',\n",
       " 'vision mission.pdf',\n",
       " 'WhatsApp Image 2025-07-16 at 3.37.30 PM.jpeg',\n",
       " 'WhatsApp Image 2025-07-16 at 3.37.31 PM (1).jpeg',\n",
       " 'WhatsApp Image 2025-07-16 at 3.37.31 PM.jpeg',\n",
       " 'WhatsApp Image 2025-09-07 at 6.00.05 PM.jpeg',\n",
       " 'WHO.docx']"
      ]
     },
     "execution_count": 63,
     "metadata": {},
     "output_type": "execute_result"
    }
   ],
   "source": [
    "os.listdir()"
   ]
  },
  {
   "cell_type": "markdown",
   "id": "46478d7e-892e-4a29-ac48-a7db01fb9a88",
   "metadata": {},
   "source": [
    "##### 44. Check the size of a file using os module."
   ]
  },
  {
   "cell_type": "code",
   "execution_count": 64,
   "id": "c2144e4b-73ff-4054-95c8-e798b1a79263",
   "metadata": {},
   "outputs": [
    {
     "name": "stdout",
     "output_type": "stream",
     "text": [
      "File size of 123.txt is: 40 bytes\n"
     ]
    }
   ],
   "source": [
    "filename = \"123.txt\"\n",
    "size = os.path.getsize(filename)\n",
    "print(f\"File size of {filename} is: {size} bytes\")"
   ]
  },
  {
   "cell_type": "markdown",
   "id": "426162f5-87ee-488c-91d8-d552f545d686",
   "metadata": {},
   "source": [
    "##### 45. Count all .txt files in a directory"
   ]
  },
  {
   "cell_type": "code",
   "execution_count": 65,
   "id": "a4cebaae-a5a8-4279-8fe1-c82bbc8250d2",
   "metadata": {},
   "outputs": [
    {
     "name": "stdout",
     "output_type": "stream",
     "text": [
      "{17, '.txt files:'}\n"
     ]
    }
   ],
   "source": [
    "files = os.listdir()\n",
    "count = 0\n",
    "\n",
    "for f in files:\n",
    "    if f.endswith(\".txt\"):\n",
    "        count += 1\n",
    "result = {\".txt files:\", count}\n",
    "\n",
    "print(result)"
   ]
  },
  {
   "cell_type": "markdown",
   "id": "1dea32f2-7d3e-4e7c-8566-3c5a349a66b4",
   "metadata": {},
   "source": [
    "## 10. Try-Exception (5 Questions)"
   ]
  },
  {
   "cell_type": "markdown",
   "id": "66bd1ee0-6092-4cb0-882f-04a6d40a7258",
   "metadata": {},
   "source": [
    "##### 46. Write a program that takes user input and prints its square. Handle errors if input is invalid."
   ]
  },
  {
   "cell_type": "code",
   "execution_count": 66,
   "id": "c2c2cc0c-31e7-4813-b290-5675d9324de0",
   "metadata": {},
   "outputs": [
    {
     "name": "stdin",
     "output_type": "stream",
     "text": [
      "Enter a number:  5\n"
     ]
    },
    {
     "name": "stdout",
     "output_type": "stream",
     "text": [
      "Square is: 25\n"
     ]
    }
   ],
   "source": [
    "try:\n",
    "    num = int(input(\"Enter a number: \"))\n",
    "    print(\"Square is:\", num**2)\n",
    "except ValueError: \n",
    "    print(\"Invalid input! Please enter a number.\")"
   ]
  },
  {
   "cell_type": "markdown",
   "id": "22ec39d9-f1ee-4b75-8dfe-2257e804af44",
   "metadata": {},
   "source": [
    "##### 47. Handle ZeroDivisionError with an example program."
   ]
  },
  {
   "cell_type": "code",
   "execution_count": 70,
   "id": "71c22030-a605-49e8-ae92-c64160804c3c",
   "metadata": {},
   "outputs": [
    {
     "name": "stdin",
     "output_type": "stream",
     "text": [
      "Enter numerator:  4\n",
      "Enter denominator:  0\n"
     ]
    },
    {
     "name": "stdout",
     "output_type": "stream",
     "text": [
      "Error! Cannot divide by zero.\n"
     ]
    }
   ],
   "source": [
    "try:\n",
    "    a = int(input(\"Enter numerator: \"))\n",
    "    b = int(input(\"Enter denominator: \"))\n",
    "    result = int(a / b)\n",
    "    print(\"Result:\", result)\n",
    "except ZeroDivisionError:\n",
    "    print(\"Error! Cannot divide by zero.\")"
   ]
  },
  {
   "cell_type": "markdown",
   "id": "8ab9a7db-0cbc-481d-8a28-83f73f2c8b97",
   "metadata": {},
   "source": [
    "##### 48. Handle FileNotFoundError with an example program."
   ]
  },
  {
   "cell_type": "code",
   "execution_count": 71,
   "id": "a3b01eba-d422-4f64-ae98-ca356436e1c2",
   "metadata": {},
   "outputs": [
    {
     "name": "stdout",
     "output_type": "stream",
     "text": [
      "File not found!\n"
     ]
    }
   ],
   "source": [
    "try:\n",
    "    f = open(\"sample.txt\", \"r\")   \n",
    "    print(f.read())\n",
    "    f.close()\n",
    "except FileNotFoundError:\n",
    "    print(\"File not found!\")"
   ]
  },
  {
   "cell_type": "markdown",
   "id": "71cad0f9-543c-42dd-9c12-4f9a1c003ad6",
   "metadata": {},
   "source": [
    "##### 49. Handle both ValueError and TypeError with an example."
   ]
  },
  {
   "cell_type": "code",
   "execution_count": 73,
   "id": "6a15a83a-15e7-4363-8bad-c17542c53182",
   "metadata": {},
   "outputs": [
    {
     "name": "stdin",
     "output_type": "stream",
     "text": [
      "Enter a number:  j\n"
     ]
    },
    {
     "name": "stdout",
     "output_type": "stream",
     "text": [
      "ValueError: Please enter numbers only!\n"
     ]
    }
   ],
   "source": [
    "try:\n",
    "    num = int(input(\"Enter a number: \"))   \n",
    "    result = num + \"5\"                     # this code will show error \n",
    "    print(result)\n",
    "except ValueError:\n",
    "    print(\"ValueError: Please enter numbers only!\")\n",
    "except TypeError:\n",
    "    print(\"TypeError: Cannot add number and string together!\")"
   ]
  },
  {
   "cell_type": "markdown",
   "id": "cb6871f4-c146-4fa8-a6dc-da96406fb90b",
   "metadata": {},
   "source": [
    "##### 50. Write a program with finally block that opens and closes a file"
   ]
  },
  {
   "cell_type": "code",
   "execution_count": 74,
   "id": "b9258f5d-8497-42ae-ad96-617099b632f8",
   "metadata": {},
   "outputs": [
    {
     "name": "stdout",
     "output_type": "stream",
     "text": [
      "File written successfully.\n",
      "File closed successfully.\n"
     ]
    }
   ],
   "source": [
    "try:\n",
    "    file = open(\"example.txt\", \"w\")\n",
    "    file.write(\"Hello, Python!\")\n",
    "    print(\"File written successfully.\")\n",
    "\n",
    "except Exception as e:\n",
    "    print(\"An error occurred:\", e)\n",
    "\n",
    "finally:\n",
    "    file.close()\n",
    "    print(\"File closed successfully.\")"
   ]
  },
  {
   "cell_type": "code",
   "execution_count": null,
   "id": "b4a1faa0-99b5-432f-85db-1d9c46ed5c45",
   "metadata": {},
   "outputs": [],
   "source": []
  }
 ],
 "metadata": {
  "kernelspec": {
   "display_name": "Python 3 (ipykernel)",
   "language": "python",
   "name": "python3"
  },
  "language_info": {
   "codemirror_mode": {
    "name": "ipython",
    "version": 3
   },
   "file_extension": ".py",
   "mimetype": "text/x-python",
   "name": "python",
   "nbconvert_exporter": "python",
   "pygments_lexer": "ipython3",
   "version": "3.13.5"
  }
 },
 "nbformat": 4,
 "nbformat_minor": 5
}
